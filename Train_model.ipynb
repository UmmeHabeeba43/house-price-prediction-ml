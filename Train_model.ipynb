{
 "cells": [
  {
   "cell_type": "code",
   "execution_count": 5,
   "id": "9d792de0-7b4c-49f5-83b5-ea1c43558273",
   "metadata": {},
   "outputs": [
    {
     "name": "stdout",
     "output_type": "stream",
     "text": [
      "(16512, 13)\n"
     ]
    }
   ],
   "source": [
    "import pandas as pd\n",
    "import numpy as np\n",
    "from sklearn.model_selection import StratifiedShuffleSplit\n",
    "from sklearn.pipeline import Pipeline\n",
    "from sklearn.compose import ColumnTransformer\n",
    "from sklearn.impute import SimpleImputer\n",
    "from sklearn.preprocessing import StandardScaler, OneHotEncoder\n",
    "# from sklearn.preprocessing import OrdinalEncoder  # Uncomment if you prefer ordinal\n",
    "\n",
    "# 1. Load the data\n",
    "housing = pd.read_csv(\"housing.csv\")\n",
    "\n",
    "# 2. Create a stratified test set based on income category\n",
    "housing[\"income_cat\"] = pd.cut(\n",
    "    housing[\"median_income\"],\n",
    "    bins=[0., 1.5, 3.0, 4.5, 6., np.inf],\n",
    "    labels=[1, 2, 3, 4, 5]\n",
    ")\n",
    "\n",
    "split = StratifiedShuffleSplit(n_splits=1, test_size=0.2, random_state=42)\n",
    "for train_index, test_index in split.split(housing, housing[\"income_cat\"]):\n",
    "    strat_train_set = housing.loc[train_index].drop(\"income_cat\", axis=1)\n",
    "    strat_test_set = housing.loc[test_index].drop(\"income_cat\", axis=1)\n",
    "\n",
    "# Work on a copy of training data\n",
    "housing = strat_train_set.copy()\n",
    "\n",
    "# 3. Separate predictors and labels\n",
    "housing_labels = housing[\"median_house_value\"].copy()\n",
    "housing = housing.drop(\"median_house_value\", axis=1)\n",
    "\n",
    "# 4. Separate numerical and categorical columns\n",
    "num_attribs = housing.drop(\"ocean_proximity\", axis=1).columns.tolist()\n",
    "cat_attribs = [\"ocean_proximity\"]\n",
    "\n",
    "# 5. Pipelines\n",
    "# Numerical pipeline\n",
    "num_pipeline = Pipeline([\n",
    "    (\"imputer\", SimpleImputer(strategy=\"median\")),\n",
    "    (\"scaler\", StandardScaler()),\n",
    "])\n",
    "\n",
    "# Categorical pipeline\n",
    "cat_pipeline = Pipeline([\n",
    "    # (\"ordinal\", OrdinalEncoder())  # Use this if you prefer ordinal encoding\n",
    "    (\"onehot\", OneHotEncoder(handle_unknown=\"ignore\"))\n",
    "])\n",
    "\n",
    "# Full pipeline\n",
    "full_pipeline = ColumnTransformer([\n",
    "    (\"num\", num_pipeline, num_attribs),\n",
    "    (\"cat\", cat_pipeline, cat_attribs),\n",
    "])\n",
    "\n",
    "# 6. Transform the data\n",
    "housing_prepared = full_pipeline.fit_transform(housing)\n",
    "\n",
    "# housing_prepared is now a NumPy array ready for training\n",
    "print(housing_prepared.shape)"
   ]
  },
  {
   "cell_type": "code",
   "execution_count": 8,
   "id": "bd19a4d2-28bc-4438-a323-fc897b525952",
   "metadata": {},
   "outputs": [
    {
     "name": "stdout",
     "output_type": "stream",
     "text": [
      "Linear Regression RMSE: 69050.56219504567\n",
      "Decision Tree RMSE: 0.0\n",
      "Random Forest RMSE: 18342.366362322846\n"
     ]
    },
    {
     "name": "stderr",
     "output_type": "stream",
     "text": [
      "C:\\Users\\UmmeHabeeba\\anaconda3\\Lib\\site-packages\\sklearn\\metrics\\_regression.py:492: FutureWarning: 'squared' is deprecated in version 1.4 and will be removed in 1.6. To calculate the root mean squared error, use the function'root_mean_squared_error'.\n",
      "  warnings.warn(\n",
      "C:\\Users\\UmmeHabeeba\\anaconda3\\Lib\\site-packages\\sklearn\\metrics\\_regression.py:492: FutureWarning: 'squared' is deprecated in version 1.4 and will be removed in 1.6. To calculate the root mean squared error, use the function'root_mean_squared_error'.\n",
      "  warnings.warn(\n",
      "C:\\Users\\UmmeHabeeba\\anaconda3\\Lib\\site-packages\\sklearn\\metrics\\_regression.py:492: FutureWarning: 'squared' is deprecated in version 1.4 and will be removed in 1.6. To calculate the root mean squared error, use the function'root_mean_squared_error'.\n",
      "  warnings.warn(\n"
     ]
    }
   ],
   "source": [
    "from sklearn.linear_model import LinearRegression\n",
    "from sklearn.tree import DecisionTreeRegressor\n",
    "from sklearn.ensemble import RandomForestRegressor\n",
    "from sklearn.metrics import mean_squared_error\n",
    "\n",
    "# Linear Regression\n",
    "lin_reg = LinearRegression()\n",
    "lin_reg.fit(housing_prepared, housing_labels)\n",
    "\n",
    "# Decision Tree\n",
    "tree_reg = DecisionTreeRegressor(random_state=42)\n",
    "tree_reg.fit(housing_prepared, housing_labels)\n",
    "\n",
    "# Random Forest\n",
    "forest_reg = RandomForestRegressor(random_state=42)\n",
    "forest_reg.fit(housing_prepared, housing_labels)\n",
    "\n",
    "# Predict using training data\n",
    "lin_preds = lin_reg.predict(housing_prepared)\n",
    "tree_preds = tree_reg.predict(housing_prepared)\n",
    "forest_preds = forest_reg.predict(housing_prepared)\n",
    "\n",
    "# Calculate RMSE\n",
    "lin_rmse = mean_squared_error(housing_labels, lin_preds, squared=False)\n",
    "tree_rmse = mean_squared_error(housing_labels, tree_preds, squared=False)\n",
    "forest_rmse = mean_squared_error(housing_labels, forest_preds, squared=False)\n",
    "\n",
    "print(\"Linear Regression RMSE:\", lin_rmse)\n",
    "print(\"Decision Tree RMSE:\", tree_rmse)\n",
    "print(\"Random Forest RMSE:\", forest_rmse)"
   ]
  },
  {
   "cell_type": "code",
   "execution_count": 9,
   "id": "558216ce-1d22-41ea-a3f5-ccc7b0d583f1",
   "metadata": {},
   "outputs": [
    {
     "name": "stdout",
     "output_type": "stream",
     "text": [
      "Decision Tree CV RMSEs: [71177.6601991  69770.07865373 64770.5639395  68536.60203993\n",
      " 67057.08155801 68847.12456973 70977.38255647 69208.86346929\n",
      " 67187.87131535 73280.38732407]\n",
      "\n",
      "Cross-Validation Performance (Decision Tree):\n",
      "count       10.000000\n",
      "mean     69081.361563\n",
      "std       2420.500173\n",
      "min      64770.563939\n",
      "25%      67525.053996\n",
      "50%      69027.994020\n",
      "75%      70675.556581\n",
      "max      73280.387324\n",
      "dtype: float64\n"
     ]
    }
   ],
   "source": [
    "from sklearn.model_selection import cross_val_score\n",
    "import pandas as pd\n",
    "\n",
    "# Evaluate Decision Tree with cross-validation\n",
    "tree_rmses = -cross_val_score(\n",
    "    tree_reg,\n",
    "    housing_prepared,\n",
    "    housing_labels,\n",
    "    scoring=\"neg_root_mean_squared_error\",\n",
    "    cv=10\n",
    ")\n",
    "\n",
    "# WARNING: Scikit-Learn’s scoring uses utility functions (higher is better), so RMSE is returned as negative.\n",
    "# We use minus (-) to convert it back to positive RMSE.\n",
    "print(\"Decision Tree CV RMSEs:\", tree_rmses)\n",
    "print(\"\\nCross-Validation Performance (Decision Tree):\")\n",
    "print(pd.Series(tree_rmses).describe())"
   ]
  },
  {
   "cell_type": "code",
   "execution_count": 10,
   "id": "c48fad34-9e20-4438-85e0-1606ae83f116",
   "metadata": {},
   "outputs": [
    {
     "name": "stdout",
     "output_type": "stream",
     "text": [
      "Linear regressor CV RMSEs: [72229.03469752 65318.2240289  67706.39604745 69368.53738998\n",
      " 66767.61061621 73003.75273869 70522.24414582 69440.77896541\n",
      " 66930.32945876 70756.31946074]\n",
      "\n",
      "Cross-Validation Performance (Linear regressor):\n",
      "count       10.000000\n",
      "mean     69204.322755\n",
      "std       2500.382157\n",
      "min      65318.224029\n",
      "25%      67124.346106\n",
      "50%      69404.658178\n",
      "75%      70697.800632\n",
      "max      73003.752739\n",
      "dtype: float64\n"
     ]
    }
   ],
   "source": [
    "lin_rmses = -cross_val_score(\n",
    "    lin_reg,\n",
    "    housing_prepared,\n",
    "    housing_labels,\n",
    "    scoring=\"neg_root_mean_squared_error\",\n",
    "    cv=10\n",
    ")\n",
    "\n",
    "print(\"Linear regressor CV RMSEs:\", lin_rmses)\n",
    "print(\"\\nCross-Validation Performance (Linear regressor):\")\n",
    "print(pd.Series(lin_rmses).describe())"
   ]
  },
  {
   "cell_type": "code",
   "execution_count": null,
   "id": "dbca3363-4775-46d4-bf0c-641edfb49a89",
   "metadata": {},
   "outputs": [],
   "source": []
  }
 ],
 "metadata": {
  "kernelspec": {
   "display_name": "Python 3 (ipykernel)",
   "language": "python",
   "name": "python3"
  },
  "language_info": {
   "codemirror_mode": {
    "name": "ipython",
    "version": 3
   },
   "file_extension": ".py",
   "mimetype": "text/x-python",
   "name": "python",
   "nbconvert_exporter": "python",
   "pygments_lexer": "ipython3",
   "version": "3.12.7"
  }
 },
 "nbformat": 4,
 "nbformat_minor": 5
}
